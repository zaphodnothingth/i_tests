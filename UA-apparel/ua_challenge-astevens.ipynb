{
 "cells": [
  {
   "cell_type": "markdown",
   "metadata": {},
   "source": [
    "# Imports & reading"
   ]
  },
  {
   "cell_type": "code",
   "execution_count": 1,
   "metadata": {},
   "outputs": [],
   "source": [
    "# new autosklearn fun - must have swig3, pyrfr >7,<9\n",
    "# https://github.com/automl/auto-sklearn/issues/1025"
   ]
  },
  {
   "cell_type": "code",
   "execution_count": 2,
   "metadata": {},
   "outputs": [],
   "source": [
    "import pandas as pd\n",
    "# import pandas_profiling as pdp\n",
    "import numpy as np\n"
   ]
  },
  {
   "cell_type": "code",
   "execution_count": 3,
   "metadata": {},
   "outputs": [
    {
     "data": {
      "text/plain": [
       "'train size'"
      ]
     },
     "metadata": {},
     "output_type": "display_data"
    },
    {
     "data": {
      "text/plain": [
       "(2666, 18)"
      ]
     },
     "metadata": {},
     "output_type": "display_data"
    },
    {
     "name": "stdout",
     "output_type": "stream",
     "text": [
      "\n",
      "\n",
      "View training data\n"
     ]
    },
    {
     "data": {
      "text/html": [
       "<div>\n",
       "<style scoped>\n",
       "    .dataframe tbody tr th:only-of-type {\n",
       "        vertical-align: middle;\n",
       "    }\n",
       "\n",
       "    .dataframe tbody tr th {\n",
       "        vertical-align: top;\n",
       "    }\n",
       "\n",
       "    .dataframe thead th {\n",
       "        text-align: right;\n",
       "    }\n",
       "</style>\n",
       "<table border=\"1\" class=\"dataframe\">\n",
       "  <thead>\n",
       "    <tr style=\"text-align: right;\">\n",
       "      <th></th>\n",
       "      <th>last_purchase</th>\n",
       "      <th>max_discount</th>\n",
       "      <th>shoe_spend</th>\n",
       "      <th>apparell_spend</th>\n",
       "      <th>acc_spend</th>\n",
       "      <th>custserv_calls</th>\n",
       "      <th>churn</th>\n",
       "      <th>acc_purchasers</th>\n",
       "      <th>promo_purchaser</th>\n",
       "      <th>shoe_orders</th>\n",
       "      <th>apparel_orders</th>\n",
       "      <th>acc_orders</th>\n",
       "      <th>gender</th>\n",
       "      <th>ecommShopper</th>\n",
       "      <th>bhShopper</th>\n",
       "      <th>state</th>\n",
       "      <th>area_code</th>\n",
       "      <th>phone</th>\n",
       "    </tr>\n",
       "  </thead>\n",
       "  <tbody>\n",
       "    <tr>\n",
       "      <th>0</th>\n",
       "      <td>56.5</td>\n",
       "      <td>0.26</td>\n",
       "      <td>322.2</td>\n",
       "      <td>194.3</td>\n",
       "      <td>126</td>\n",
       "      <td>1</td>\n",
       "      <td>0</td>\n",
       "      <td>0</td>\n",
       "      <td>1</td>\n",
       "      <td>3</td>\n",
       "      <td>2</td>\n",
       "      <td>4</td>\n",
       "      <td>Male</td>\n",
       "      <td>False</td>\n",
       "      <td>True</td>\n",
       "      <td>MS</td>\n",
       "      <td>510</td>\n",
       "      <td>402-5509</td>\n",
       "    </tr>\n",
       "    <tr>\n",
       "      <th>1</th>\n",
       "      <td>84.0</td>\n",
       "      <td>0.46</td>\n",
       "      <td>279.1</td>\n",
       "      <td>170.9</td>\n",
       "      <td>92</td>\n",
       "      <td>0</td>\n",
       "      <td>0</td>\n",
       "      <td>0</td>\n",
       "      <td>1</td>\n",
       "      <td>2</td>\n",
       "      <td>2</td>\n",
       "      <td>3</td>\n",
       "      <td>Male</td>\n",
       "      <td>False</td>\n",
       "      <td>False</td>\n",
       "      <td>OH</td>\n",
       "      <td>510</td>\n",
       "      <td>370-3021</td>\n",
       "    </tr>\n",
       "    <tr>\n",
       "      <th>2</th>\n",
       "      <td>96.0</td>\n",
       "      <td>0.00</td>\n",
       "      <td>294.7</td>\n",
       "      <td>306</td>\n",
       "      <td>96</td>\n",
       "      <td>1</td>\n",
       "      <td>1</td>\n",
       "      <td>0</td>\n",
       "      <td>0</td>\n",
       "      <td>2</td>\n",
       "      <td>3</td>\n",
       "      <td>3</td>\n",
       "      <td>Female</td>\n",
       "      <td>True</td>\n",
       "      <td>False</td>\n",
       "      <td>MI</td>\n",
       "      <td>415</td>\n",
       "      <td>373-1448</td>\n",
       "    </tr>\n",
       "    <tr>\n",
       "      <th>3</th>\n",
       "      <td>62.0</td>\n",
       "      <td>0.00</td>\n",
       "      <td>255.4</td>\n",
       "      <td>185.6</td>\n",
       "      <td>100</td>\n",
       "      <td>2</td>\n",
       "      <td>0</td>\n",
       "      <td>0</td>\n",
       "      <td>0</td>\n",
       "      <td>2</td>\n",
       "      <td>2</td>\n",
       "      <td>3</td>\n",
       "      <td>Male</td>\n",
       "      <td>False</td>\n",
       "      <td>False</td>\n",
       "      <td>VT</td>\n",
       "      <td>510</td>\n",
       "      <td>403-1769</td>\n",
       "    </tr>\n",
       "    <tr>\n",
       "      <th>4</th>\n",
       "      <td>45.0</td>\n",
       "      <td>0.28</td>\n",
       "      <td>300.6</td>\n",
       "      <td>197.9</td>\n",
       "      <td>154</td>\n",
       "      <td>0</td>\n",
       "      <td>0</td>\n",
       "      <td>0</td>\n",
       "      <td>1</td>\n",
       "      <td>3</td>\n",
       "      <td>2</td>\n",
       "      <td>5</td>\n",
       "      <td>Male</td>\n",
       "      <td>False</td>\n",
       "      <td>True</td>\n",
       "      <td>WV</td>\n",
       "      <td>408</td>\n",
       "      <td>405-9384</td>\n",
       "    </tr>\n",
       "    <tr>\n",
       "      <th>...</th>\n",
       "      <td>...</td>\n",
       "      <td>...</td>\n",
       "      <td>...</td>\n",
       "      <td>...</td>\n",
       "      <td>...</td>\n",
       "      <td>...</td>\n",
       "      <td>...</td>\n",
       "      <td>...</td>\n",
       "      <td>...</td>\n",
       "      <td>...</td>\n",
       "      <td>...</td>\n",
       "      <td>...</td>\n",
       "      <td>...</td>\n",
       "      <td>...</td>\n",
       "      <td>...</td>\n",
       "      <td>...</td>\n",
       "      <td>...</td>\n",
       "      <td>...</td>\n",
       "    </tr>\n",
       "    <tr>\n",
       "      <th>2661</th>\n",
       "      <td>83.0</td>\n",
       "      <td>0.29</td>\n",
       "      <td>276.1</td>\n",
       "      <td>193.5</td>\n",
       "      <td>97</td>\n",
       "      <td>2</td>\n",
       "      <td>0</td>\n",
       "      <td>0</td>\n",
       "      <td>1</td>\n",
       "      <td>2</td>\n",
       "      <td>2</td>\n",
       "      <td>3</td>\n",
       "      <td>Male</td>\n",
       "      <td>True</td>\n",
       "      <td>True</td>\n",
       "      <td>ID</td>\n",
       "      <td>510</td>\n",
       "      <td>399-7029</td>\n",
       "    </tr>\n",
       "    <tr>\n",
       "      <th>2662</th>\n",
       "      <td>71.0</td>\n",
       "      <td>0.00</td>\n",
       "      <td>154.7</td>\n",
       "      <td>230.1</td>\n",
       "      <td>135</td>\n",
       "      <td>5</td>\n",
       "      <td>1</td>\n",
       "      <td>0</td>\n",
       "      <td>0</td>\n",
       "      <td>1</td>\n",
       "      <td>3</td>\n",
       "      <td>4</td>\n",
       "      <td>Male</td>\n",
       "      <td>False</td>\n",
       "      <td>False</td>\n",
       "      <td>OK</td>\n",
       "      <td>408</td>\n",
       "      <td>345-1524</td>\n",
       "    </tr>\n",
       "    <tr>\n",
       "      <th>2663</th>\n",
       "      <td>82.0</td>\n",
       "      <td>0.00</td>\n",
       "      <td>221.9</td>\n",
       "      <td>92.2</td>\n",
       "      <td>113</td>\n",
       "      <td>3</td>\n",
       "      <td>0</td>\n",
       "      <td>0</td>\n",
       "      <td>0</td>\n",
       "      <td>2</td>\n",
       "      <td>2</td>\n",
       "      <td>4</td>\n",
       "      <td>Male</td>\n",
       "      <td>False</td>\n",
       "      <td>True</td>\n",
       "      <td>MA</td>\n",
       "      <td>415</td>\n",
       "      <td>419-2767</td>\n",
       "    </tr>\n",
       "    <tr>\n",
       "      <th>2664</th>\n",
       "      <td>79.5</td>\n",
       "      <td>0.42</td>\n",
       "      <td>279.3</td>\n",
       "      <td>158.2</td>\n",
       "      <td>113</td>\n",
       "      <td>0</td>\n",
       "      <td>0</td>\n",
       "      <td>0</td>\n",
       "      <td>1</td>\n",
       "      <td>2</td>\n",
       "      <td>2</td>\n",
       "      <td>4</td>\n",
       "      <td>Male</td>\n",
       "      <td>False</td>\n",
       "      <td>True</td>\n",
       "      <td>VT</td>\n",
       "      <td>415</td>\n",
       "      <td>403-5552</td>\n",
       "    </tr>\n",
       "    <tr>\n",
       "      <th>2665</th>\n",
       "      <td>74.0</td>\n",
       "      <td>0.41</td>\n",
       "      <td>201.8</td>\n",
       "      <td>170.8</td>\n",
       "      <td>103</td>\n",
       "      <td>5</td>\n",
       "      <td>1</td>\n",
       "      <td>1</td>\n",
       "      <td>1</td>\n",
       "      <td>2</td>\n",
       "      <td>2</td>\n",
       "      <td>3</td>\n",
       "      <td>Male</td>\n",
       "      <td>False</td>\n",
       "      <td>True</td>\n",
       "      <td>VT</td>\n",
       "      <td>510</td>\n",
       "      <td>378-3508</td>\n",
       "    </tr>\n",
       "  </tbody>\n",
       "</table>\n",
       "<p>2666 rows × 18 columns</p>\n",
       "</div>"
      ],
      "text/plain": [
       "      last_purchase  max_discount  shoe_spend apparell_spend  acc_spend  \\\n",
       "0              56.5          0.26       322.2          194.3        126   \n",
       "1              84.0          0.46       279.1          170.9         92   \n",
       "2              96.0          0.00       294.7            306         96   \n",
       "3              62.0          0.00       255.4          185.6        100   \n",
       "4              45.0          0.28       300.6          197.9        154   \n",
       "...             ...           ...         ...            ...        ...   \n",
       "2661           83.0          0.29       276.1          193.5         97   \n",
       "2662           71.0          0.00       154.7          230.1        135   \n",
       "2663           82.0          0.00       221.9           92.2        113   \n",
       "2664           79.5          0.42       279.3          158.2        113   \n",
       "2665           74.0          0.41       201.8          170.8        103   \n",
       "\n",
       "      custserv_calls  churn  acc_purchasers  promo_purchaser  shoe_orders  \\\n",
       "0                  1      0               0                1            3   \n",
       "1                  0      0               0                1            2   \n",
       "2                  1      1               0                0            2   \n",
       "3                  2      0               0                0            2   \n",
       "4                  0      0               0                1            3   \n",
       "...              ...    ...             ...              ...          ...   \n",
       "2661               2      0               0                1            2   \n",
       "2662               5      1               0                0            1   \n",
       "2663               3      0               0                0            2   \n",
       "2664               0      0               0                1            2   \n",
       "2665               5      1               1                1            2   \n",
       "\n",
       "      apparel_orders  acc_orders  gender  ecommShopper  bhShopper state  \\\n",
       "0                  2           4    Male         False       True    MS   \n",
       "1                  2           3    Male         False      False    OH   \n",
       "2                  3           3  Female          True      False    MI   \n",
       "3                  2           3    Male         False      False    VT   \n",
       "4                  2           5    Male         False       True    WV   \n",
       "...              ...         ...     ...           ...        ...   ...   \n",
       "2661               2           3    Male          True       True    ID   \n",
       "2662               3           4    Male         False      False    OK   \n",
       "2663               2           4    Male         False       True    MA   \n",
       "2664               2           4    Male         False       True    VT   \n",
       "2665               2           3    Male         False       True    VT   \n",
       "\n",
       "      area_code     phone  \n",
       "0           510  402-5509  \n",
       "1           510  370-3021  \n",
       "2           415  373-1448  \n",
       "3           510  403-1769  \n",
       "4           408  405-9384  \n",
       "...         ...       ...  \n",
       "2661        510  399-7029  \n",
       "2662        408  345-1524  \n",
       "2663        415  419-2767  \n",
       "2664        415  403-5552  \n",
       "2665        510  378-3508  \n",
       "\n",
       "[2666 rows x 18 columns]"
      ]
     },
     "metadata": {},
     "output_type": "display_data"
    },
    {
     "data": {
      "text/plain": [
       "last_purchase      float64\n",
       "max_discount       float64\n",
       "shoe_spend         float64\n",
       "apparell_spend      object\n",
       "acc_spend            int64\n",
       "custserv_calls       int64\n",
       "churn                int64\n",
       "acc_purchasers       int64\n",
       "promo_purchaser      int64\n",
       "shoe_orders          int64\n",
       "apparel_orders       int64\n",
       "acc_orders           int64\n",
       "gender              object\n",
       "ecommShopper          bool\n",
       "bhShopper             bool\n",
       "state               object\n",
       "area_code            int64\n",
       "phone               object\n",
       "dtype: object"
      ]
     },
     "metadata": {},
     "output_type": "display_data"
    }
   ],
   "source": [
    "df_train = pd.read_csv('train.csv')\n",
    "display(\"train size\", df_train.shape)\n",
    "print('\\n\\nView training data')\n",
    "\n",
    "display(df_train)\n",
    "display(df_train.dtypes)"
   ]
  },
  {
   "cell_type": "markdown",
   "metadata": {},
   "source": [
    "# EDA"
   ]
  },
  {
   "cell_type": "code",
   "execution_count": 4,
   "metadata": {
    "scrolled": false
   },
   "outputs": [],
   "source": [
    "# profile = pdp.ProfileReport(df_train, title='Pandas Profiling Report', explorative=True)\n",
    "# # profile.to_file(\"your_report.html\")\n",
    "# profile.to_notebook_iframe()"
   ]
  },
  {
   "cell_type": "markdown",
   "metadata": {},
   "source": [
    "# clean data"
   ]
  },
  {
   "cell_type": "code",
   "execution_count": 5,
   "metadata": {},
   "outputs": [],
   "source": [
    "# phone isn't useful\n",
    "df_train.drop(columns='phone', inplace=True)"
   ]
  },
  {
   "cell_type": "code",
   "execution_count": 6,
   "metadata": {},
   "outputs": [
    {
     "name": "stderr",
     "output_type": "stream",
     "text": [
      "<ipython-input-6-372931c8448f>:12: SettingWithCopyWarning: \n",
      "A value is trying to be set on a copy of a slice from a DataFrame\n",
      "\n",
      "See the caveats in the documentation: https://pandas.pydata.org/pandas-docs/stable/user_guide/indexing.html#returning-a-view-versus-a-copy\n",
      "  df_train.apparell_spend[707] = df_train.apparell_spend.mean()\n"
     ]
    },
    {
     "data": {
      "text/html": [
       "<div>\n",
       "<style scoped>\n",
       "    .dataframe tbody tr th:only-of-type {\n",
       "        vertical-align: middle;\n",
       "    }\n",
       "\n",
       "    .dataframe tbody tr th {\n",
       "        vertical-align: top;\n",
       "    }\n",
       "\n",
       "    .dataframe thead th {\n",
       "        text-align: right;\n",
       "    }\n",
       "</style>\n",
       "<table border=\"1\" class=\"dataframe\">\n",
       "  <thead>\n",
       "    <tr style=\"text-align: right;\">\n",
       "      <th></th>\n",
       "      <th>last_purchase</th>\n",
       "      <th>max_discount</th>\n",
       "      <th>shoe_spend</th>\n",
       "      <th>apparell_spend</th>\n",
       "      <th>acc_spend</th>\n",
       "      <th>custserv_calls</th>\n",
       "      <th>churn</th>\n",
       "      <th>acc_purchasers</th>\n",
       "      <th>promo_purchaser</th>\n",
       "      <th>shoe_orders</th>\n",
       "      <th>apparel_orders</th>\n",
       "      <th>acc_orders</th>\n",
       "      <th>gender</th>\n",
       "      <th>ecommShopper</th>\n",
       "      <th>bhShopper</th>\n",
       "      <th>state</th>\n",
       "      <th>area_code</th>\n",
       "    </tr>\n",
       "  </thead>\n",
       "  <tbody>\n",
       "    <tr>\n",
       "      <th>707</th>\n",
       "      <td>66.0</td>\n",
       "      <td>0.0</td>\n",
       "      <td>314.8</td>\n",
       "      <td>171.388105</td>\n",
       "      <td>116</td>\n",
       "      <td>0</td>\n",
       "      <td>1</td>\n",
       "      <td>0</td>\n",
       "      <td>0</td>\n",
       "      <td>3</td>\n",
       "      <td>2</td>\n",
       "      <td>4</td>\n",
       "      <td>Female</td>\n",
       "      <td>False</td>\n",
       "      <td>True</td>\n",
       "      <td>CA</td>\n",
       "      <td>408</td>\n",
       "    </tr>\n",
       "  </tbody>\n",
       "</table>\n",
       "</div>"
      ],
      "text/plain": [
       "     last_purchase  max_discount  shoe_spend  apparell_spend  acc_spend  \\\n",
       "707           66.0           0.0       314.8      171.388105        116   \n",
       "\n",
       "     custserv_calls  churn  acc_purchasers  promo_purchaser  shoe_orders  \\\n",
       "707               0      1               0                0            3   \n",
       "\n",
       "     apparel_orders  acc_orders  gender  ecommShopper  bhShopper state  \\\n",
       "707               2           4  Female         False       True    CA   \n",
       "\n",
       "     area_code  \n",
       "707        408  "
      ]
     },
     "execution_count": 6,
     "metadata": {},
     "output_type": "execute_result"
    }
   ],
   "source": [
    "# profiling revealed that `apparell_spend` has 1 non-numeric character\n",
    "'''Most occurring categories\n",
    "Value\tCount\tFrequency (%)\n",
    "Decimal Number\t10175\t81.0%\n",
    "Other Punctuation\t2382\t 19.0%\n",
    "Lowercase Letter\t1\t < 0.1%'''\n",
    "\n",
    "# df_train.apparell_spend[df_train['apparell_spend'].apply(lambda x: x.isnumeric())]\n",
    "# pd.to_numeric(df_train.apparell_spend, errors='raise')\n",
    "# ValueError: Unable to parse string \"a\" at position 707\n",
    "df_train.apparell_spend = pd.to_numeric(df_train.apparell_spend, errors='coerce')\n",
    "df_train.apparell_spend[707] = df_train.apparell_spend.mean()\n",
    "df_train.iloc[[707]]"
   ]
  },
  {
   "cell_type": "code",
   "execution_count": 7,
   "metadata": {
    "scrolled": true
   },
   "outputs": [
    {
     "data": {
      "image/png": "[encoded data removed]",
      "text/plain": [
       "<IPython.core.display.Image object>"
      ]
     },
     "execution_count": 7,
     "metadata": {},
     "output_type": "execute_result"
    }
   ],
   "source": [
    "# from profiling - columns with missing values \n",
    "from IPython.display import Image\n",
    "Image(filename='missing_values.png') "
   ]
  },
  {
   "cell_type": "code",
   "execution_count": 8,
   "metadata": {},
   "outputs": [],
   "source": [
    "df_train['area_code'] = df_train['area_code'].fillna(df_train['area_code'].mode())\n",
    "df_train['max_discount'] = df_train['max_discount'].fillna(df_train['max_discount'].mean())\n"
   ]
  },
  {
   "cell_type": "code",
   "execution_count": 9,
   "metadata": {},
   "outputs": [],
   "source": [
    "# dummies_train = df_train.dropna()\n",
    "dummies_train = pd.get_dummies(df_train, columns=['gender','ecommShopper','bhShopper',\n",
    "                                                       'state','area_code'])"
   ]
  },
  {
   "cell_type": "code",
   "execution_count": 10,
   "metadata": {},
   "outputs": [],
   "source": [
    "# originally dropped the row\n",
    "# df_train.drop([707],inplace=True)\n",
    "# df_train.reset_index()\n",
    "# df_train.apparell_spend = pd.to_numeric(df_train.apparell_spend, errors='raise')\n",
    "# df_train.dtypes"
   ]
  },
  {
   "cell_type": "code",
   "execution_count": 11,
   "metadata": {},
   "outputs": [
    {
     "name": "stdout",
     "output_type": "stream",
     "text": [
      "<class 'pandas.core.frame.DataFrame'>\n",
      "RangeIndex: 2666 entries, 0 to 2665\n",
      "Data columns (total 74 columns):\n",
      " #   Column              Non-Null Count  Dtype  \n",
      "---  ------              --------------  -----  \n",
      " 0   last_purchase       2666 non-null   float64\n",
      " 1   max_discount        2666 non-null   float64\n",
      " 2   shoe_spend          2666 non-null   float64\n",
      " 3   apparell_spend      2666 non-null   float64\n",
      " 4   acc_spend           2666 non-null   int64  \n",
      " 5   custserv_calls      2666 non-null   int64  \n",
      " 6   churn               2666 non-null   int64  \n",
      " 7   acc_purchasers      2666 non-null   int64  \n",
      " 8   promo_purchaser     2666 non-null   int64  \n",
      " 9   shoe_orders         2666 non-null   int64  \n",
      " 10  apparel_orders      2666 non-null   int64  \n",
      " 11  acc_orders          2666 non-null   int64  \n",
      " 12  gender_Female       2666 non-null   uint8  \n",
      " 13  gender_Male         2666 non-null   uint8  \n",
      " 14  ecommShopper_False  2666 non-null   uint8  \n",
      " 15  ecommShopper_True   2666 non-null   uint8  \n",
      " 16  bhShopper_False     2666 non-null   uint8  \n",
      " 17  bhShopper_True      2666 non-null   uint8  \n",
      " 18  state_AD            2666 non-null   uint8  \n",
      " 19  state_AK            2666 non-null   uint8  \n",
      " 20  state_AL            2666 non-null   uint8  \n",
      " 21  state_AR            2666 non-null   uint8  \n",
      " 22  state_ARZ           2666 non-null   uint8  \n",
      " 23  state_AZ            2666 non-null   uint8  \n",
      " 24  state_CA            2666 non-null   uint8  \n",
      " 25  state_CO            2666 non-null   uint8  \n",
      " 26  state_CT            2666 non-null   uint8  \n",
      " 27  state_DC            2666 non-null   uint8  \n",
      " 28  state_DE            2666 non-null   uint8  \n",
      " 29  state_FL            2666 non-null   uint8  \n",
      " 30  state_GA            2666 non-null   uint8  \n",
      " 31  state_HI            2666 non-null   uint8  \n",
      " 32  state_IA            2666 non-null   uint8  \n",
      " 33  state_ID            2666 non-null   uint8  \n",
      " 34  state_IL            2666 non-null   uint8  \n",
      " 35  state_IN            2666 non-null   uint8  \n",
      " 36  state_KS            2666 non-null   uint8  \n",
      " 37  state_KY            2666 non-null   uint8  \n",
      " 38  state_LA            2666 non-null   uint8  \n",
      " 39  state_MA            2666 non-null   uint8  \n",
      " 40  state_MD            2666 non-null   uint8  \n",
      " 41  state_ME            2666 non-null   uint8  \n",
      " 42  state_MI            2666 non-null   uint8  \n",
      " 43  state_MN            2666 non-null   uint8  \n",
      " 44  state_MO            2666 non-null   uint8  \n",
      " 45  state_MS            2666 non-null   uint8  \n",
      " 46  state_MT            2666 non-null   uint8  \n",
      " 47  state_NC            2666 non-null   uint8  \n",
      " 48  state_ND            2666 non-null   uint8  \n",
      " 49  state_NE            2666 non-null   uint8  \n",
      " 50  state_NH            2666 non-null   uint8  \n",
      " 51  state_NJ            2666 non-null   uint8  \n",
      " 52  state_NM            2666 non-null   uint8  \n",
      " 53  state_NV            2666 non-null   uint8  \n",
      " 54  state_NY            2666 non-null   uint8  \n",
      " 55  state_OH            2666 non-null   uint8  \n",
      " 56  state_OK            2666 non-null   uint8  \n",
      " 57  state_OR            2666 non-null   uint8  \n",
      " 58  state_PA            2666 non-null   uint8  \n",
      " 59  state_RI            2666 non-null   uint8  \n",
      " 60  state_SC            2666 non-null   uint8  \n",
      " 61  state_SD            2666 non-null   uint8  \n",
      " 62  state_TN            2666 non-null   uint8  \n",
      " 63  state_TX            2666 non-null   uint8  \n",
      " 64  state_UT            2666 non-null   uint8  \n",
      " 65  state_VA            2666 non-null   uint8  \n",
      " 66  state_VT            2666 non-null   uint8  \n",
      " 67  state_WA            2666 non-null   uint8  \n",
      " 68  state_WI            2666 non-null   uint8  \n",
      " 69  state_WV            2666 non-null   uint8  \n",
      " 70  state_WY            2666 non-null   uint8  \n",
      " 71  area_code_408       2666 non-null   uint8  \n",
      " 72  area_code_415       2666 non-null   uint8  \n",
      " 73  area_code_510       2666 non-null   uint8  \n",
      "dtypes: float64(4), int64(8), uint8(62)\n",
      "memory usage: 411.5 KB\n"
     ]
    }
   ],
   "source": [
    "dummies_train.info(verbose=True)"
   ]
  },
  {
   "cell_type": "code",
   "execution_count": 12,
   "metadata": {},
   "outputs": [],
   "source": [
    "trainy = np.array(dummies_train['churn'], dtype='int')\n",
    "dummies_train.drop(columns=['churn'], inplace=True)\n",
    "trainX=dummies_train.values\n",
    "\n",
    "# dummies_test = pd.get_dummies(df_test, columns=['profession','marital','schooling','default',\n",
    "#                                                   'housing','loan','contact','month','day_of_week','poutcome'])\n",
    "# dummies_test = dummies_test.drop(['Unnamed: 0'], axis=1)\n",
    "# testX = dummies_test.values"
   ]
  },
  {
   "cell_type": "code",
   "execution_count": 13,
   "metadata": {},
   "outputs": [],
   "source": [
    "# def Diff(li1, li2): \n",
    "#     return (list(list(set(li1)-set(li2)) + list(set(li2)-set(li1))))\n",
    "\n",
    "# display(\"column diff: \", Diff(dummies_train.columns, dummies_test.columns))\n",
    "# display(trainX.shape)\n",
    "# display(trainy.shape)\n",
    "# # display(testX.shape)"
   ]
  },
  {
   "cell_type": "markdown",
   "metadata": {},
   "source": [
    "# test model"
   ]
  },
  {
   "cell_type": "code",
   "execution_count": null,
   "metadata": {},
   "outputs": [
    {
     "name": "stderr",
     "output_type": "stream",
     "text": [
      "/home/zaphodnothingth/miniconda3/envs/automl/lib/python3.8/site-packages/pyparsing.py:3190: FutureWarning: Possible set intersection at position 3\n",
      "  self.re = re.compile(self.reString)\n"
     ]
    }
   ],
   "source": [
    "import sklearn.metrics\n",
    "from sklearn.model_selection import train_test_split\n",
    "import autosklearn.classification\n",
    "\n",
    "X_train, X_test, y_train, y_test = train_test_split(trainX, trainy, test_size=0.25, random_state=42)\n",
    "cls = autosklearn.classification.AutoSklearnClassifier(metric=autosklearn.metrics.f1, memory_limit=1024)\n",
    "cls.fit(trainX, trainy)\n",
    "y_hat = cls.predict(X_test)\n",
    "print(\"Accuracy score\", sklearn.metrics.accuracy_score(y_test, y_hat))\n",
    "# Accuracy score 0.9415538132573058\n",
    "print(\"Balanced Accuracy score\", sklearn.metrics.balanced_accuracy_score(y_test, y_hat))\n",
    "# Balanced Accuracy score 0.8896719770433406"
   ]
  },
  {
   "cell_type": "code",
   "execution_count": null,
   "metadata": {},
   "outputs": [],
   "source": [
    "from sklearn.metrics import confusion_matrix, ConfusionMatrixDisplay\n",
    "cm = confusion_matrix(y_test, y_hat)\n",
    "disp = ConfusionMatrixDisplay(cm, display_labels=['yes','no'])\n",
    "disp = disp.plot(values_format='.0f')"
   ]
  },
  {
   "cell_type": "code",
   "execution_count": null,
   "metadata": {
    "scrolled": true
   },
   "outputs": [],
   "source": [
    "print(cls.sprint_statistics())"
   ]
  },
  {
   "cell_type": "code",
   "execution_count": null,
   "metadata": {
    "scrolled": true
   },
   "outputs": [],
   "source": [
    "cls.show_models()"
   ]
  },
  {
   "cell_type": "code",
   "execution_count": null,
   "metadata": {},
   "outputs": [],
   "source": [
    "cls.cv_results_"
   ]
  },
  {
   "cell_type": "code",
   "execution_count": null,
   "metadata": {
    "scrolled": false
   },
   "outputs": [],
   "source": [
    "import PipelineProfiler\n",
    "profiler_data = PipelineProfiler.import_autosklearn(cls)\n",
    "PipelineProfiler.plot_pipeline_matrix(profiler_data)\n"
   ]
  },
  {
   "cell_type": "markdown",
   "metadata": {},
   "source": [
    "# Retrain model using full set"
   ]
  },
  {
   "cell_type": "code",
   "execution_count": null,
   "metadata": {},
   "outputs": [],
   "source": [
    "automl = autosklearn.classification.AutoSklearnClassifier(metric=autosklearn.metrics.f1, n_jobs=4, ml_memory_limit=6144)\n",
    "automl.fit(trainX, trainy)"
   ]
  },
  {
   "cell_type": "code",
   "execution_count": null,
   "metadata": {},
   "outputs": [],
   "source": [
    "predictions = automl.predict(testX)"
   ]
  },
  {
   "cell_type": "code",
   "execution_count": null,
   "metadata": {},
   "outputs": [],
   "source": [
    "predictions"
   ]
  },
  {
   "cell_type": "code",
   "execution_count": null,
   "metadata": {},
   "outputs": [],
   "source": [
    "df_test['responded'] = predictions"
   ]
  },
  {
   "cell_type": "code",
   "execution_count": null,
   "metadata": {},
   "outputs": [],
   "source": [
    "df_test.to_csv('test_results_astevens.csv')"
   ]
  }
 ],
 "metadata": {
  "kernelspec": {
   "display_name": "Python [conda env:automl]",
   "language": "python",
   "name": "conda-env-automl-py"
  },
  "language_info": {
   "codemirror_mode": {
    "name": "ipython",
    "version": 3
   },
   "file_extension": ".py",
   "mimetype": "text/x-python",
   "name": "python",
   "nbconvert_exporter": "python",
   "pygments_lexer": "ipython3",
   "version": "3.8.8"
  }
 },
 "nbformat": 4,
 "nbformat_minor": 4
}
