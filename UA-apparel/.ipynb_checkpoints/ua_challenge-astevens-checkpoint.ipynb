{
 "cells": [
  {
   "cell_type": "markdown",
   "metadata": {},
   "source": [
    "# Imports & reading"
   ]
  },
  {
   "cell_type": "code",
   "execution_count": 1,
   "metadata": {},
   "outputs": [],
   "source": [
    "# new autosklearn fun - must have swig3, pyrfr >7,<9\n",
    "# https://github.com/automl/auto-sklearn/issues/1025"
   ]
  },
  {
   "cell_type": "code",
   "execution_count": 2,
   "metadata": {},
   "outputs": [
    {
     "ename": "ModuleNotFoundError",
     "evalue": "No module named 'pandas_profiling'",
     "output_type": "error",
     "traceback": [
      "\u001b[0;31m---------------------------------------------------------------------------\u001b[0m",
      "\u001b[0;31mModuleNotFoundError\u001b[0m                       Traceback (most recent call last)",
      "\u001b[0;32m<ipython-input-2-8401cc686cff>\u001b[0m in \u001b[0;36m<module>\u001b[0;34m\u001b[0m\n\u001b[1;32m      1\u001b[0m \u001b[0;32mimport\u001b[0m \u001b[0mpandas\u001b[0m \u001b[0;32mas\u001b[0m \u001b[0mpd\u001b[0m\u001b[0;34m\u001b[0m\u001b[0;34m\u001b[0m\u001b[0m\n\u001b[0;32m----> 2\u001b[0;31m \u001b[0;32mimport\u001b[0m \u001b[0mpandas_profiling\u001b[0m \u001b[0;32mas\u001b[0m \u001b[0mpdp\u001b[0m\u001b[0;34m\u001b[0m\u001b[0;34m\u001b[0m\u001b[0m\n\u001b[0m\u001b[1;32m      3\u001b[0m \u001b[0;32mimport\u001b[0m \u001b[0mnumpy\u001b[0m \u001b[0;32mas\u001b[0m \u001b[0mnp\u001b[0m\u001b[0;34m\u001b[0m\u001b[0;34m\u001b[0m\u001b[0m\n",
      "\u001b[0;31mModuleNotFoundError\u001b[0m: No module named 'pandas_profiling'"
     ]
    }
   ],
   "source": [
    "import pandas as pd\n",
    "# import pandas_profiling as pdp\n",
    "import numpy as np\n"
   ]
  },
  {
   "cell_type": "code",
   "execution_count": null,
   "metadata": {},
   "outputs": [],
   "source": [
    "df_train = pd.read_csv('train.csv')\n",
    "display(\"train size\", df_train.shape)\n",
    "print('\\n\\nView training data')\n",
    "\n",
    "display(df_train)\n",
    "display(df_train.dtypes)"
   ]
  },
  {
   "cell_type": "markdown",
   "metadata": {},
   "source": [
    "# EDA"
   ]
  },
  {
   "cell_type": "code",
   "execution_count": null,
   "metadata": {
    "scrolled": false
   },
   "outputs": [],
   "source": [
    "# profile = pdp.ProfileReport(df_train, title='Pandas Profiling Report', explorative=True)\n",
    "# # profile.to_file(\"your_report.html\")\n",
    "# profile.to_notebook_iframe()"
   ]
  },
  {
   "cell_type": "markdown",
   "metadata": {},
   "source": [
    "# clean data"
   ]
  },
  {
   "cell_type": "code",
   "execution_count": null,
   "metadata": {},
   "outputs": [],
   "source": [
    "# phone isn't useful\n",
    "df_train.drop(columns='phone', inplace=True)"
   ]
  },
  {
   "cell_type": "code",
   "execution_count": null,
   "metadata": {},
   "outputs": [],
   "source": [
    "# profiling revealed that `apparell_spend` has 1 non-numeric character\n",
    "'''Most occurring categories\n",
    "Value\tCount\tFrequency (%)\n",
    "Decimal Number\t10175\t81.0%\n",
    "Other Punctuation\t2382\t 19.0%\n",
    "Lowercase Letter\t1\t < 0.1%'''\n",
    "\n",
    "# df_train.apparell_spend[df_train['apparell_spend'].apply(lambda x: x.isnumeric())]\n",
    "# pd.to_numeric(df_train.apparell_spend, errors='raise')\n",
    "# ValueError: Unable to parse string \"a\" at position 707\n",
    "df_train.apparell_spend = pd.to_numeric(df_train.apparell_spend, errors='coerce')\n",
    "df_train.apparell_spend[707] = df_train.apparell_spend.mean()\n",
    "df_train.iloc[[707]]"
   ]
  },
  {
   "cell_type": "code",
   "execution_count": null,
   "metadata": {
    "scrolled": true
   },
   "outputs": [],
   "source": [
    "# from profiling - columns with missing values \n",
    "from IPython.display import Image\n",
    "Image(filename='missing_values.png') "
   ]
  },
  {
   "cell_type": "code",
   "execution_count": null,
   "metadata": {},
   "outputs": [],
   "source": [
    "df_train['area_code'] = df_train['area_code'].fillna(df_train['area_code'].mode())\n",
    "df_train['max_discount'] = df_train['max_discount'].fillna(df_train['max_discount'].mean())\n"
   ]
  },
  {
   "cell_type": "code",
   "execution_count": null,
   "metadata": {},
   "outputs": [],
   "source": [
    "# dummies_train = df_train.dropna()\n",
    "dummies_train = pd.get_dummies(df_train, columns=['gender','ecommShopper','bhShopper',\n",
    "                                                       'state','area_code'])"
   ]
  },
  {
   "cell_type": "code",
   "execution_count": null,
   "metadata": {},
   "outputs": [],
   "source": [
    "# originally dropped the row\n",
    "# df_train.drop([707],inplace=True)\n",
    "# df_train.reset_index()\n",
    "# df_train.apparell_spend = pd.to_numeric(df_train.apparell_spend, errors='raise')\n",
    "# df_train.dtypes"
   ]
  },
  {
   "cell_type": "code",
   "execution_count": null,
   "metadata": {},
   "outputs": [],
   "source": [
    "dummies_train.info(verbose=True)"
   ]
  },
  {
   "cell_type": "code",
   "execution_count": null,
   "metadata": {},
   "outputs": [],
   "source": [
    "trainy = np.array(dummies_train['churn'], dtype='int')\n",
    "dummies_train.drop(columns=['churn'], inplace=True)\n",
    "trainX=dummies_train.values\n",
    "\n",
    "# dummies_test = pd.get_dummies(df_test, columns=['profession','marital','schooling','default',\n",
    "#                                                   'housing','loan','contact','month','day_of_week','poutcome'])\n",
    "# dummies_test = dummies_test.drop(['Unnamed: 0'], axis=1)\n",
    "# testX = dummies_test.values"
   ]
  },
  {
   "cell_type": "code",
   "execution_count": null,
   "metadata": {},
   "outputs": [],
   "source": [
    "# def Diff(li1, li2): \n",
    "#     return (list(list(set(li1)-set(li2)) + list(set(li2)-set(li1))))\n",
    "\n",
    "# display(\"column diff: \", Diff(dummies_train.columns, dummies_test.columns))\n",
    "# display(trainX.shape)\n",
    "# display(trainy.shape)\n",
    "# # display(testX.shape)"
   ]
  },
  {
   "cell_type": "markdown",
   "metadata": {},
   "source": [
    "# test model"
   ]
  },
  {
   "cell_type": "code",
   "execution_count": null,
   "metadata": {},
   "outputs": [],
   "source": [
    "import sklearn.metrics\n",
    "from sklearn.model_selection import train_test_split\n",
    "import autosklearn.classification\n",
    "\n",
    "X_train, X_test, y_train, y_test = train_test_split(trainX, trainy, test_size=0.25, random_state=42)\n",
    "cls = autosklearn.classification.AutoSklearnClassifier(metric=autosklearn.metrics.f1, memory_limit=1024)\n",
    "cls.fit(trainX, trainy)\n",
    "y_hat = cls.predict(X_test)\n",
    "print(\"Accuracy score\", sklearn.metrics.accuracy_score(y_test, y_hat))\n",
    "# Accuracy score 0.9415538132573058\n",
    "print(\"Balanced Accuracy score\", sklearn.metrics.balanced_accuracy_score(y_test, y_hat))\n",
    "# Balanced Accuracy score 0.8896719770433406"
   ]
  },
  {
   "cell_type": "code",
   "execution_count": null,
   "metadata": {},
   "outputs": [],
   "source": [
    "from sklearn.metrics import confusion_matrix, ConfusionMatrixDisplay\n",
    "cm = confusion_matrix(y_test, y_hat)\n",
    "disp = ConfusionMatrixDisplay(cm, display_labels=['yes','no'])\n",
    "disp = disp.plot(values_format='.0f')"
   ]
  },
  {
   "cell_type": "code",
   "execution_count": null,
   "metadata": {
    "scrolled": true
   },
   "outputs": [],
   "source": [
    "print(cls.sprint_statistics())"
   ]
  },
  {
   "cell_type": "code",
   "execution_count": null,
   "metadata": {
    "scrolled": true
   },
   "outputs": [],
   "source": [
    "cls.show_models()"
   ]
  },
  {
   "cell_type": "code",
   "execution_count": null,
   "metadata": {},
   "outputs": [],
   "source": [
    "cls.cv_results_"
   ]
  },
  {
   "cell_type": "code",
   "execution_count": null,
   "metadata": {
    "scrolled": false
   },
   "outputs": [],
   "source": [
    "import PipelineProfiler\n",
    "profiler_data = PipelineProfiler.import_autosklearn(cls)\n",
    "PipelineProfiler.plot_pipeline_matrix(profiler_data)\n"
   ]
  },
  {
   "cell_type": "markdown",
   "metadata": {},
   "source": [
    "# Retrain model using full set"
   ]
  },
  {
   "cell_type": "code",
   "execution_count": null,
   "metadata": {},
   "outputs": [],
   "source": [
    "automl = autosklearn.classification.AutoSklearnClassifier(metric=autosklearn.metrics.f1, n_jobs=4, ml_memory_limit=6144)\n",
    "automl.fit(trainX, trainy)"
   ]
  },
  {
   "cell_type": "code",
   "execution_count": null,
   "metadata": {},
   "outputs": [],
   "source": [
    "predictions = automl.predict(testX)"
   ]
  },
  {
   "cell_type": "code",
   "execution_count": null,
   "metadata": {},
   "outputs": [],
   "source": [
    "predictions"
   ]
  },
  {
   "cell_type": "code",
   "execution_count": null,
   "metadata": {},
   "outputs": [],
   "source": [
    "df_test['responded'] = predictions"
   ]
  },
  {
   "cell_type": "code",
   "execution_count": null,
   "metadata": {},
   "outputs": [],
   "source": [
    "df_test.to_csv('test_results_astevens.csv')"
   ]
  }
 ],
 "metadata": {
  "kernelspec": {
   "display_name": "Python [conda env:automl]",
   "language": "python",
   "name": "conda-env-automl-py"
  },
  "language_info": {
   "codemirror_mode": {
    "name": "ipython",
    "version": 3
   },
   "file_extension": ".py",
   "mimetype": "text/x-python",
   "name": "python",
   "nbconvert_exporter": "python",
   "pygments_lexer": "ipython3",
   "version": "3.8.8"
  }
 },
 "nbformat": 4,
 "nbformat_minor": 4
}
